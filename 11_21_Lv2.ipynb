{
  "nbformat": 4,
  "nbformat_minor": 0,
  "metadata": {
    "colab": {
      "provenance": [],
      "authorship_tag": "ABX9TyPLPaXhB1xdwIXr4IB3NEvk",
      "include_colab_link": true
    },
    "kernelspec": {
      "name": "python3",
      "display_name": "Python 3"
    },
    "language_info": {
      "name": "python"
    }
  },
  "cells": [
    {
      "cell_type": "markdown",
      "metadata": {
        "id": "view-in-github",
        "colab_type": "text"
      },
      "source": [
        "<a href=\"https://colab.research.google.com/github/daJarae/Programmers_Lv2/blob/lin/11_21_Lv2.ipynb\" target=\"_parent\"><img src=\"https://colab.research.google.com/assets/colab-badge.svg\" alt=\"Open In Colab\"/></a>"
      ]
    },
    {
      "cell_type": "code",
      "execution_count": null,
      "metadata": {
        "id": "_fU8pynYZXCQ"
      },
      "outputs": [],
      "source": [
        "#행렬의 곱셈\n",
        "\n",
        "def solution(arr1, arr2):\n",
        "    \n",
        "    #★두번째 실수!\n",
        "    #a,b,c 지정 안하고 행렬 각 위치 값 계산할때 len(~) 사용하면 런타임 에러남\n",
        "    a = len(arr2[0]) #arr2의 열 수\n",
        "    b = len(arr1)    #arr1의 행 수\n",
        "    c = len(arr1[0]) #arr1의 열 수이자 arr2의 행 수\n",
        "    \n",
        "    #3행2열 * 2행4열 -> 3행4열 이면\n",
        "    #b=3, c=2, a=4\n",
        "    \n",
        "    #★첫번째 실수!!\n",
        "    #[0]*len(~) 하면 같은 값들 복사라서 나중에 중복해서 더해짐!!\n",
        "    answer = [[0 for col in range(a)] for row in range(b)] #결과물은 b행 a열\n",
        "\n",
        "    for i in range(b): #arr1 행 위치 인덱스\n",
        "        for j in range(a): #arr2 열 위치 인덱스\n",
        "            for k in range(c): #arr1행, arr2열 각 요소의 인덱스 k=0이면 1,3 k=1이면 4,3\n",
        "                answer[i][j] += arr1[i][k] * arr2[k][j]\n",
        "    #  1 4  \n",
        "    #  3 2   *  3 3 -> 0행0열 값 15는 1*3+4+3\n",
        "    #  4 1      3 3\n",
        "    \n",
        "    return answer"
      ]
    },
    {
      "cell_type": "code",
      "source": [
        "#하노이의 탑\n",
        "\n",
        "def solution(n):\n",
        "    res=[]\n",
        "    \n",
        "    def move(start,end,nums):\n",
        "        \n",
        "        if nums==0:\n",
        "            return\n",
        "        if nums==1:\n",
        "            res.append([start,end])\n",
        "            return\n",
        "        \n",
        "        temp=list(set([1,2,3])-set([start,end]))[0]\n",
        "        \n",
        "        move(start,temp,nums-1) #1>2 1이동\n",
        "        res.append([start,end]) #1>3 2이동\n",
        "        move(temp, end, nums-1)\n",
        "    \n",
        "    move(1,3,n)\n",
        "    \n",
        "    return res\n",
        "    \n",
        "    \n",
        "\n",
        "#더 짧은 풀이\n",
        "\n",
        "#def hanoi(f, t, m, n): f:출발 t:도착 m:temp와 동일\n",
        "#    if n == 0:\n",
        "#        return []\n",
        "#    return hanoi(f, m, t, n-1) + [[f, t]] + hanoi(m, t, f, n-1)\n",
        "\n",
        "#def solution(n):\n",
        "#    return hanoi(1, 3, 2, n)\n",
        "\n",
        "\n",
        "#[] + [[1,2]] 는 [[1,2]] 임을 알 수 있다."
      ],
      "metadata": {
        "id": "mtuyk07oZYu5"
      },
      "execution_count": null,
      "outputs": []
    }
  ]
}